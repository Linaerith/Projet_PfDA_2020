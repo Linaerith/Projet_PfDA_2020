{
 "cells": [
  {
   "cell_type": "markdown",
   "metadata": {},
   "source": [
    "## 1) Importation des données "
   ]
  },
  {
   "cell_type": "code",
   "execution_count": 1,
   "metadata": {},
   "outputs": [],
   "source": [
    "import pandas as pd"
   ]
  },
  {
   "cell_type": "code",
   "execution_count": 2,
   "metadata": {},
   "outputs": [],
   "source": [
    "df = pd.read_csv('incident_event_log.csv') #Le csv se trouve dans le même dossier que mon notebook."
   ]
  },
  {
   "cell_type": "code",
   "execution_count": 3,
   "metadata": {
    "scrolled": true
   },
   "outputs": [
    {
     "data": {
      "text/html": [
       "<div>\n",
       "<style scoped>\n",
       "    .dataframe tbody tr th:only-of-type {\n",
       "        vertical-align: middle;\n",
       "    }\n",
       "\n",
       "    .dataframe tbody tr th {\n",
       "        vertical-align: top;\n",
       "    }\n",
       "\n",
       "    .dataframe thead th {\n",
       "        text-align: right;\n",
       "    }\n",
       "</style>\n",
       "<table border=\"1\" class=\"dataframe\">\n",
       "  <thead>\n",
       "    <tr style=\"text-align: right;\">\n",
       "      <th></th>\n",
       "      <th>number</th>\n",
       "      <th>incident_state</th>\n",
       "      <th>active</th>\n",
       "      <th>reassignment_count</th>\n",
       "      <th>reopen_count</th>\n",
       "      <th>sys_mod_count</th>\n",
       "      <th>made_sla</th>\n",
       "      <th>caller_id</th>\n",
       "      <th>opened_by</th>\n",
       "      <th>opened_at</th>\n",
       "      <th>...</th>\n",
       "      <th>u_priority_confirmation</th>\n",
       "      <th>notify</th>\n",
       "      <th>problem_id</th>\n",
       "      <th>rfc</th>\n",
       "      <th>vendor</th>\n",
       "      <th>caused_by</th>\n",
       "      <th>closed_code</th>\n",
       "      <th>resolved_by</th>\n",
       "      <th>resolved_at</th>\n",
       "      <th>closed_at</th>\n",
       "    </tr>\n",
       "  </thead>\n",
       "  <tbody>\n",
       "    <tr>\n",
       "      <th>0</th>\n",
       "      <td>INC0000045</td>\n",
       "      <td>New</td>\n",
       "      <td>True</td>\n",
       "      <td>0</td>\n",
       "      <td>0</td>\n",
       "      <td>0</td>\n",
       "      <td>True</td>\n",
       "      <td>Caller 2403</td>\n",
       "      <td>Opened by  8</td>\n",
       "      <td>29/2/2016 01:16</td>\n",
       "      <td>...</td>\n",
       "      <td>False</td>\n",
       "      <td>Do Not Notify</td>\n",
       "      <td>?</td>\n",
       "      <td>?</td>\n",
       "      <td>?</td>\n",
       "      <td>?</td>\n",
       "      <td>code 5</td>\n",
       "      <td>Resolved by 149</td>\n",
       "      <td>29/2/2016 11:29</td>\n",
       "      <td>5/3/2016 12:00</td>\n",
       "    </tr>\n",
       "    <tr>\n",
       "      <th>1</th>\n",
       "      <td>INC0000045</td>\n",
       "      <td>Resolved</td>\n",
       "      <td>True</td>\n",
       "      <td>0</td>\n",
       "      <td>0</td>\n",
       "      <td>2</td>\n",
       "      <td>True</td>\n",
       "      <td>Caller 2403</td>\n",
       "      <td>Opened by  8</td>\n",
       "      <td>29/2/2016 01:16</td>\n",
       "      <td>...</td>\n",
       "      <td>False</td>\n",
       "      <td>Do Not Notify</td>\n",
       "      <td>?</td>\n",
       "      <td>?</td>\n",
       "      <td>?</td>\n",
       "      <td>?</td>\n",
       "      <td>code 5</td>\n",
       "      <td>Resolved by 149</td>\n",
       "      <td>29/2/2016 11:29</td>\n",
       "      <td>5/3/2016 12:00</td>\n",
       "    </tr>\n",
       "    <tr>\n",
       "      <th>2</th>\n",
       "      <td>INC0000045</td>\n",
       "      <td>Resolved</td>\n",
       "      <td>True</td>\n",
       "      <td>0</td>\n",
       "      <td>0</td>\n",
       "      <td>3</td>\n",
       "      <td>True</td>\n",
       "      <td>Caller 2403</td>\n",
       "      <td>Opened by  8</td>\n",
       "      <td>29/2/2016 01:16</td>\n",
       "      <td>...</td>\n",
       "      <td>False</td>\n",
       "      <td>Do Not Notify</td>\n",
       "      <td>?</td>\n",
       "      <td>?</td>\n",
       "      <td>?</td>\n",
       "      <td>?</td>\n",
       "      <td>code 5</td>\n",
       "      <td>Resolved by 149</td>\n",
       "      <td>29/2/2016 11:29</td>\n",
       "      <td>5/3/2016 12:00</td>\n",
       "    </tr>\n",
       "  </tbody>\n",
       "</table>\n",
       "<p>3 rows × 36 columns</p>\n",
       "</div>"
      ],
      "text/plain": [
       "       number incident_state  active  reassignment_count  reopen_count  \\\n",
       "0  INC0000045            New    True                   0             0   \n",
       "1  INC0000045       Resolved    True                   0             0   \n",
       "2  INC0000045       Resolved    True                   0             0   \n",
       "\n",
       "   sys_mod_count  made_sla    caller_id     opened_by        opened_at  ...  \\\n",
       "0              0      True  Caller 2403  Opened by  8  29/2/2016 01:16  ...   \n",
       "1              2      True  Caller 2403  Opened by  8  29/2/2016 01:16  ...   \n",
       "2              3      True  Caller 2403  Opened by  8  29/2/2016 01:16  ...   \n",
       "\n",
       "  u_priority_confirmation         notify problem_id rfc vendor caused_by  \\\n",
       "0                   False  Do Not Notify          ?   ?      ?         ?   \n",
       "1                   False  Do Not Notify          ?   ?      ?         ?   \n",
       "2                   False  Do Not Notify          ?   ?      ?         ?   \n",
       "\n",
       "  closed_code      resolved_by      resolved_at       closed_at  \n",
       "0      code 5  Resolved by 149  29/2/2016 11:29  5/3/2016 12:00  \n",
       "1      code 5  Resolved by 149  29/2/2016 11:29  5/3/2016 12:00  \n",
       "2      code 5  Resolved by 149  29/2/2016 11:29  5/3/2016 12:00  \n",
       "\n",
       "[3 rows x 36 columns]"
      ]
     },
     "execution_count": 3,
     "metadata": {},
     "output_type": "execute_result"
    }
   ],
   "source": [
    "df.head(3)"
   ]
  },
  {
   "cell_type": "markdown",
   "metadata": {},
   "source": [
    "On observe que sur les 36 colonnes, plusieurs semblent avoir des données manquantes. On va donc vérifier le taux de valeurs manquantes dans chaque colonne et éventuellement les supprimer."
   ]
  },
  {
   "cell_type": "markdown",
   "metadata": {},
   "source": [
    "## 2) Nettoyage de la dataframe"
   ]
  },
  {
   "cell_type": "markdown",
   "metadata": {},
   "source": [
    "### 2.1) Observation des valeurs manquantes"
   ]
  },
  {
   "cell_type": "markdown",
   "metadata": {},
   "source": [
    "On observe qu'il n'y a pas de missing values lorsqu'on essaie d'en afficher le pourcentage, on peut donc en conclure que les valeurs manquantes sont représentées par des \"?\" comme on a pu l'observer sur les quelques lignes qu'on affichées plus haut."
   ]
  },
  {
   "cell_type": "code",
   "execution_count": 4,
   "metadata": {},
   "outputs": [
    {
     "data": {
      "text/plain": [
       "number                     0.0\n",
       "incident_state             0.0\n",
       "active                     0.0\n",
       "reassignment_count         0.0\n",
       "reopen_count               0.0\n",
       "sys_mod_count              0.0\n",
       "made_sla                   0.0\n",
       "caller_id                  0.0\n",
       "opened_by                  0.0\n",
       "opened_at                  0.0\n",
       "sys_created_by             0.0\n",
       "sys_created_at             0.0\n",
       "sys_updated_by             0.0\n",
       "sys_updated_at             0.0\n",
       "contact_type               0.0\n",
       "location                   0.0\n",
       "category                   0.0\n",
       "subcategory                0.0\n",
       "u_symptom                  0.0\n",
       "cmdb_ci                    0.0\n",
       "impact                     0.0\n",
       "urgency                    0.0\n",
       "priority                   0.0\n",
       "assignment_group           0.0\n",
       "assigned_to                0.0\n",
       "knowledge                  0.0\n",
       "u_priority_confirmation    0.0\n",
       "notify                     0.0\n",
       "problem_id                 0.0\n",
       "rfc                        0.0\n",
       "vendor                     0.0\n",
       "caused_by                  0.0\n",
       "closed_code                0.0\n",
       "resolved_by                0.0\n",
       "resolved_at                0.0\n",
       "closed_at                  0.0\n",
       "dtype: float64"
      ]
     },
     "execution_count": 4,
     "metadata": {},
     "output_type": "execute_result"
    }
   ],
   "source": [
    "taux_missing_values = 100 * df.isnull().sum() / len(df) \n",
    "#mis_val_percent.index pour avoir le nom des lignes\n",
    "taux_missing_values #Observation de la fréquence des valeurs manquantes"
   ]
  },
  {
   "cell_type": "markdown",
   "metadata": {},
   "source": [
    "### 2.2) Transformation des \"?\" en NaN"
   ]
  },
  {
   "cell_type": "code",
   "execution_count": 5,
   "metadata": {},
   "outputs": [],
   "source": [
    "import numpy as np"
   ]
  },
  {
   "cell_type": "code",
   "execution_count": 6,
   "metadata": {},
   "outputs": [],
   "source": [
    "df.replace(to_replace = \"?\", \n",
    "                 value = np.nan, inplace=True) "
   ]
  },
  {
   "cell_type": "code",
   "execution_count": 7,
   "metadata": {
    "scrolled": false
   },
   "outputs": [
    {
     "data": {
      "text/html": [
       "<div>\n",
       "<style scoped>\n",
       "    .dataframe tbody tr th:only-of-type {\n",
       "        vertical-align: middle;\n",
       "    }\n",
       "\n",
       "    .dataframe tbody tr th {\n",
       "        vertical-align: top;\n",
       "    }\n",
       "\n",
       "    .dataframe thead th {\n",
       "        text-align: right;\n",
       "    }\n",
       "</style>\n",
       "<table border=\"1\" class=\"dataframe\">\n",
       "  <thead>\n",
       "    <tr style=\"text-align: right;\">\n",
       "      <th></th>\n",
       "      <th>number</th>\n",
       "      <th>incident_state</th>\n",
       "      <th>active</th>\n",
       "      <th>reassignment_count</th>\n",
       "      <th>reopen_count</th>\n",
       "      <th>sys_mod_count</th>\n",
       "      <th>made_sla</th>\n",
       "      <th>caller_id</th>\n",
       "      <th>opened_by</th>\n",
       "      <th>opened_at</th>\n",
       "      <th>...</th>\n",
       "      <th>u_priority_confirmation</th>\n",
       "      <th>notify</th>\n",
       "      <th>problem_id</th>\n",
       "      <th>rfc</th>\n",
       "      <th>vendor</th>\n",
       "      <th>caused_by</th>\n",
       "      <th>closed_code</th>\n",
       "      <th>resolved_by</th>\n",
       "      <th>resolved_at</th>\n",
       "      <th>closed_at</th>\n",
       "    </tr>\n",
       "  </thead>\n",
       "  <tbody>\n",
       "    <tr>\n",
       "      <th>0</th>\n",
       "      <td>INC0000045</td>\n",
       "      <td>New</td>\n",
       "      <td>True</td>\n",
       "      <td>0</td>\n",
       "      <td>0</td>\n",
       "      <td>0</td>\n",
       "      <td>True</td>\n",
       "      <td>Caller 2403</td>\n",
       "      <td>Opened by  8</td>\n",
       "      <td>29/2/2016 01:16</td>\n",
       "      <td>...</td>\n",
       "      <td>False</td>\n",
       "      <td>Do Not Notify</td>\n",
       "      <td>NaN</td>\n",
       "      <td>NaN</td>\n",
       "      <td>NaN</td>\n",
       "      <td>NaN</td>\n",
       "      <td>code 5</td>\n",
       "      <td>Resolved by 149</td>\n",
       "      <td>29/2/2016 11:29</td>\n",
       "      <td>5/3/2016 12:00</td>\n",
       "    </tr>\n",
       "    <tr>\n",
       "      <th>1</th>\n",
       "      <td>INC0000045</td>\n",
       "      <td>Resolved</td>\n",
       "      <td>True</td>\n",
       "      <td>0</td>\n",
       "      <td>0</td>\n",
       "      <td>2</td>\n",
       "      <td>True</td>\n",
       "      <td>Caller 2403</td>\n",
       "      <td>Opened by  8</td>\n",
       "      <td>29/2/2016 01:16</td>\n",
       "      <td>...</td>\n",
       "      <td>False</td>\n",
       "      <td>Do Not Notify</td>\n",
       "      <td>NaN</td>\n",
       "      <td>NaN</td>\n",
       "      <td>NaN</td>\n",
       "      <td>NaN</td>\n",
       "      <td>code 5</td>\n",
       "      <td>Resolved by 149</td>\n",
       "      <td>29/2/2016 11:29</td>\n",
       "      <td>5/3/2016 12:00</td>\n",
       "    </tr>\n",
       "    <tr>\n",
       "      <th>2</th>\n",
       "      <td>INC0000045</td>\n",
       "      <td>Resolved</td>\n",
       "      <td>True</td>\n",
       "      <td>0</td>\n",
       "      <td>0</td>\n",
       "      <td>3</td>\n",
       "      <td>True</td>\n",
       "      <td>Caller 2403</td>\n",
       "      <td>Opened by  8</td>\n",
       "      <td>29/2/2016 01:16</td>\n",
       "      <td>...</td>\n",
       "      <td>False</td>\n",
       "      <td>Do Not Notify</td>\n",
       "      <td>NaN</td>\n",
       "      <td>NaN</td>\n",
       "      <td>NaN</td>\n",
       "      <td>NaN</td>\n",
       "      <td>code 5</td>\n",
       "      <td>Resolved by 149</td>\n",
       "      <td>29/2/2016 11:29</td>\n",
       "      <td>5/3/2016 12:00</td>\n",
       "    </tr>\n",
       "  </tbody>\n",
       "</table>\n",
       "<p>3 rows × 36 columns</p>\n",
       "</div>"
      ],
      "text/plain": [
       "       number incident_state  active  reassignment_count  reopen_count  \\\n",
       "0  INC0000045            New    True                   0             0   \n",
       "1  INC0000045       Resolved    True                   0             0   \n",
       "2  INC0000045       Resolved    True                   0             0   \n",
       "\n",
       "   sys_mod_count  made_sla    caller_id     opened_by        opened_at  ...  \\\n",
       "0              0      True  Caller 2403  Opened by  8  29/2/2016 01:16  ...   \n",
       "1              2      True  Caller 2403  Opened by  8  29/2/2016 01:16  ...   \n",
       "2              3      True  Caller 2403  Opened by  8  29/2/2016 01:16  ...   \n",
       "\n",
       "  u_priority_confirmation         notify problem_id  rfc vendor caused_by  \\\n",
       "0                   False  Do Not Notify        NaN  NaN    NaN       NaN   \n",
       "1                   False  Do Not Notify        NaN  NaN    NaN       NaN   \n",
       "2                   False  Do Not Notify        NaN  NaN    NaN       NaN   \n",
       "\n",
       "  closed_code      resolved_by      resolved_at       closed_at  \n",
       "0      code 5  Resolved by 149  29/2/2016 11:29  5/3/2016 12:00  \n",
       "1      code 5  Resolved by 149  29/2/2016 11:29  5/3/2016 12:00  \n",
       "2      code 5  Resolved by 149  29/2/2016 11:29  5/3/2016 12:00  \n",
       "\n",
       "[3 rows x 36 columns]"
      ]
     },
     "execution_count": 7,
     "metadata": {},
     "output_type": "execute_result"
    }
   ],
   "source": [
    "df.head(3)"
   ]
  },
  {
   "cell_type": "markdown",
   "metadata": {},
   "source": [
    "Maintenant on peut observer les différents taux de valeurs manquantes par colonnes et on remarque que certaines contiennent des valeurs manquantes à plus de 97%, on va donc supprimer ces colonnes."
   ]
  },
  {
   "cell_type": "code",
   "execution_count": 8,
   "metadata": {},
   "outputs": [
    {
     "data": {
      "text/plain": [
       "number                      0.000000\n",
       "incident_state              0.000000\n",
       "active                      0.000000\n",
       "reassignment_count          0.000000\n",
       "reopen_count                0.000000\n",
       "sys_mod_count               0.000000\n",
       "made_sla                    0.000000\n",
       "caller_id                   0.020464\n",
       "opened_by                   3.411849\n",
       "opened_at                   0.000000\n",
       "sys_created_by             37.453427\n",
       "sys_created_at             37.453427\n",
       "sys_updated_by              0.000000\n",
       "sys_updated_at              0.000000\n",
       "contact_type                0.000000\n",
       "location                    0.053630\n",
       "category                    0.055041\n",
       "subcategory                 0.078328\n",
       "u_symptom                  23.261262\n",
       "cmdb_ci                    99.685983\n",
       "impact                      0.000000\n",
       "urgency                     0.000000\n",
       "priority                    0.000000\n",
       "assignment_group           10.029496\n",
       "assigned_to                19.402732\n",
       "knowledge                   0.000000\n",
       "u_priority_confirmation     0.000000\n",
       "notify                      0.000000\n",
       "problem_id                 98.380518\n",
       "rfc                        99.300694\n",
       "vendor                     99.827820\n",
       "caused_by                  99.983770\n",
       "closed_code                 0.503839\n",
       "resolved_by                 0.159478\n",
       "resolved_at                 2.216467\n",
       "closed_at                   0.000000\n",
       "dtype: float64"
      ]
     },
     "execution_count": 8,
     "metadata": {},
     "output_type": "execute_result"
    }
   ],
   "source": [
    "taux_missing_values = 100 * df.isnull().sum() / len(df)\n",
    "taux_missing_values #Observation de la fréquence des valeurs manquantes"
   ]
  },
  {
   "cell_type": "code",
   "execution_count": 9,
   "metadata": {},
   "outputs": [],
   "source": [
    "for i in range(len(taux_missing_values)):\n",
    "    if(taux_missing_values[i]>97):\n",
    "        #print(taux_missing_values.index[i])\n",
    "        df.drop(columns=[taux_missing_values.index[i]], inplace=True)"
   ]
  },
  {
   "cell_type": "markdown",
   "metadata": {},
   "source": [
    "On a bien supprimé les 5 colonnes qui contenaient plus de 97% de valeurs manquantes."
   ]
  },
  {
   "cell_type": "markdown",
   "metadata": {},
   "source": [
    "### 2.3) Traitement des données categorical"
   ]
  },
  {
   "cell_type": "code",
   "execution_count": 10,
   "metadata": {
    "scrolled": true
   },
   "outputs": [
    {
     "name": "stdout",
     "output_type": "stream",
     "text": [
      "<class 'pandas.core.frame.DataFrame'>\n",
      "RangeIndex: 141712 entries, 0 to 141711\n",
      "Data columns (total 31 columns):\n",
      "number                     141712 non-null object\n",
      "incident_state             141712 non-null object\n",
      "active                     141712 non-null bool\n",
      "reassignment_count         141712 non-null int64\n",
      "reopen_count               141712 non-null int64\n",
      "sys_mod_count              141712 non-null int64\n",
      "made_sla                   141712 non-null bool\n",
      "caller_id                  141683 non-null object\n",
      "opened_by                  136877 non-null object\n",
      "opened_at                  141712 non-null object\n",
      "sys_created_by             88636 non-null object\n",
      "sys_created_at             88636 non-null object\n",
      "sys_updated_by             141712 non-null object\n",
      "sys_updated_at             141712 non-null object\n",
      "contact_type               141712 non-null object\n",
      "location                   141636 non-null object\n",
      "category                   141634 non-null object\n",
      "subcategory                141601 non-null object\n",
      "u_symptom                  108748 non-null object\n",
      "impact                     141712 non-null object\n",
      "urgency                    141712 non-null object\n",
      "priority                   141712 non-null object\n",
      "assignment_group           127499 non-null object\n",
      "assigned_to                114216 non-null object\n",
      "knowledge                  141712 non-null bool\n",
      "u_priority_confirmation    141712 non-null bool\n",
      "notify                     141712 non-null object\n",
      "closed_code                140998 non-null object\n",
      "resolved_by                141486 non-null object\n",
      "resolved_at                138571 non-null object\n",
      "closed_at                  141712 non-null object\n",
      "dtypes: bool(4), int64(3), object(24)\n",
      "memory usage: 29.7+ MB\n",
      "None\n"
     ]
    }
   ],
   "source": [
    "print(df.info())"
   ]
  },
  {
   "cell_type": "code",
   "execution_count": 11,
   "metadata": {},
   "outputs": [],
   "source": [
    "cat_df = df.select_dtypes(include=['object']).copy()\n",
    "cols_to_del = cat_df.columns"
   ]
  },
  {
   "cell_type": "markdown",
   "metadata": {},
   "source": [
    "On remplit les colonnes contenant des NA dans chaque colonne par la valeur qui est la plus présente celle-ci."
   ]
  },
  {
   "cell_type": "code",
   "execution_count": 12,
   "metadata": {},
   "outputs": [],
   "source": [
    "cols = list(filter(lambda x : x != 'resolved_at', cat_df.columns))\n",
    "for i in cat_df.columns:\n",
    "    cat_df.fillna(\"ex.na\", inplace=True)"
   ]
  },
  {
   "cell_type": "markdown",
   "metadata": {},
   "source": [
    "Certaines colonnes ayant des valeurs catégoriques comportent énormément de possibilités de valeurs, ce qui rend le one-hot encoding compliqué. Sur ces colonnes on peut donc envisager de mettre des simples valeurs numériques, malgré le risque que ça implique de mettre une notion d'ordre dans la colonne.\n",
    "Pour les colonnes priority, urgency et impact, je décide de laisser des valeurs numériques car il y a effectivement une relation d'ordre (d'importance) entre les différentes valeurs catégoriques de ces colonnes."
   ]
  },
  {
   "cell_type": "code",
   "execution_count": 13,
   "metadata": {},
   "outputs": [
    {
     "data": {
      "text/plain": [
       "number              24918\n",
       "incident_state          9\n",
       "caller_id            5245\n",
       "opened_by             208\n",
       "opened_at           19849\n",
       "sys_created_by        186\n",
       "sys_created_at      11553\n",
       "sys_updated_by        846\n",
       "sys_updated_at      50664\n",
       "contact_type            5\n",
       "location              225\n",
       "category               59\n",
       "subcategory           255\n",
       "u_symptom             526\n",
       "impact                  3\n",
       "urgency                 3\n",
       "priority                4\n",
       "assignment_group       79\n",
       "assigned_to           235\n",
       "notify                  2\n",
       "closed_code            18\n",
       "resolved_by           217\n",
       "resolved_at         18506\n",
       "closed_at            2707\n",
       "dtype: int64"
      ]
     },
     "execution_count": 13,
     "metadata": {},
     "output_type": "execute_result"
    }
   ],
   "source": [
    "cat_df.nunique()"
   ]
  },
  {
   "cell_type": "code",
   "execution_count": 14,
   "metadata": {},
   "outputs": [],
   "source": [
    "columns_cat = [\"impact\", \"urgency\", \"priority\", \"category\", \"subcategory\", \"u_symptom\", \"sys_updated_by\"]\n",
    "for i in columns_cat:\n",
    "    labels_cat = cat_df[i].astype('category').cat.categories.tolist()\n",
    "    replace_map = {i : {k: v for k,v in zip(labels_cat,list(range(1,len(labels_cat)+1)))}}\n",
    "    cat_df.replace(replace_map, inplace=True)"
   ]
  },
  {
   "cell_type": "code",
   "execution_count": 15,
   "metadata": {},
   "outputs": [],
   "source": [
    "cat_df = pd.get_dummies(cat_df, columns=['contact_type'], prefix = ['contact_type'])\n",
    "cat_df = pd.get_dummies(cat_df, columns=['incident_state'], prefix = ['incident_state'])"
   ]
  },
  {
   "cell_type": "markdown",
   "metadata": {},
   "source": [
    "On procède ensuite à la conversation des colonnes de dates qui étaient des chaines de caractères, en datestamp, puis pour chaque ligne on calcule la différence entre la date d'ouverture et la date de résolution du problème."
   ]
  },
  {
   "cell_type": "code",
   "execution_count": 16,
   "metadata": {},
   "outputs": [],
   "source": [
    "cat_df['sys_updated_at'] = pd.to_datetime(cat_df['sys_updated_at'])\n",
    "cat_df['closed_at'] = pd.to_datetime(cat_df['closed_at'])"
   ]
  },
  {
   "cell_type": "code",
   "execution_count": 17,
   "metadata": {},
   "outputs": [],
   "source": [
    "cat_df['time_before_resolution'] = (cat_df['closed_at']-cat_df['sys_updated_at']).astype('timedelta64[m]')"
   ]
  },
  {
   "cell_type": "markdown",
   "metadata": {},
   "source": [
    "On supprime les colonnes qui seront en trop définies plus tôt et on combine nos deux datasets."
   ]
  },
  {
   "cell_type": "code",
   "execution_count": 18,
   "metadata": {
    "scrolled": true
   },
   "outputs": [],
   "source": [
    "df.drop(columns=cols_to_del, inplace=True)"
   ]
  },
  {
   "cell_type": "code",
   "execution_count": 19,
   "metadata": {},
   "outputs": [],
   "source": [
    "df = pd.concat(\n",
    "    [\n",
    "        df,\n",
    "        cat_df\n",
    "    ], axis=1\n",
    ")"
   ]
  },
  {
   "cell_type": "code",
   "execution_count": 20,
   "metadata": {
    "scrolled": true
   },
   "outputs": [
    {
     "data": {
      "text/html": [
       "<div>\n",
       "<style scoped>\n",
       "    .dataframe tbody tr th:only-of-type {\n",
       "        vertical-align: middle;\n",
       "    }\n",
       "\n",
       "    .dataframe tbody tr th {\n",
       "        vertical-align: top;\n",
       "    }\n",
       "\n",
       "    .dataframe thead th {\n",
       "        text-align: right;\n",
       "    }\n",
       "</style>\n",
       "<table border=\"1\" class=\"dataframe\">\n",
       "  <thead>\n",
       "    <tr style=\"text-align: right;\">\n",
       "      <th></th>\n",
       "      <th>active</th>\n",
       "      <th>reassignment_count</th>\n",
       "      <th>reopen_count</th>\n",
       "      <th>sys_mod_count</th>\n",
       "      <th>made_sla</th>\n",
       "      <th>knowledge</th>\n",
       "      <th>u_priority_confirmation</th>\n",
       "      <th>number</th>\n",
       "      <th>caller_id</th>\n",
       "      <th>opened_by</th>\n",
       "      <th>...</th>\n",
       "      <th>incident_state_-100</th>\n",
       "      <th>incident_state_Active</th>\n",
       "      <th>incident_state_Awaiting Evidence</th>\n",
       "      <th>incident_state_Awaiting Problem</th>\n",
       "      <th>incident_state_Awaiting User Info</th>\n",
       "      <th>incident_state_Awaiting Vendor</th>\n",
       "      <th>incident_state_Closed</th>\n",
       "      <th>incident_state_New</th>\n",
       "      <th>incident_state_Resolved</th>\n",
       "      <th>time_before_resolution</th>\n",
       "    </tr>\n",
       "  </thead>\n",
       "  <tbody>\n",
       "    <tr>\n",
       "      <th>0</th>\n",
       "      <td>True</td>\n",
       "      <td>0</td>\n",
       "      <td>0</td>\n",
       "      <td>0</td>\n",
       "      <td>True</td>\n",
       "      <td>True</td>\n",
       "      <td>False</td>\n",
       "      <td>INC0000045</td>\n",
       "      <td>Caller 2403</td>\n",
       "      <td>Opened by  8</td>\n",
       "      <td>...</td>\n",
       "      <td>0</td>\n",
       "      <td>0</td>\n",
       "      <td>0</td>\n",
       "      <td>0</td>\n",
       "      <td>0</td>\n",
       "      <td>0</td>\n",
       "      <td>0</td>\n",
       "      <td>1</td>\n",
       "      <td>0</td>\n",
       "      <td>92797.0</td>\n",
       "    </tr>\n",
       "    <tr>\n",
       "      <th>1</th>\n",
       "      <td>True</td>\n",
       "      <td>0</td>\n",
       "      <td>0</td>\n",
       "      <td>2</td>\n",
       "      <td>True</td>\n",
       "      <td>True</td>\n",
       "      <td>False</td>\n",
       "      <td>INC0000045</td>\n",
       "      <td>Caller 2403</td>\n",
       "      <td>Opened by  8</td>\n",
       "      <td>...</td>\n",
       "      <td>0</td>\n",
       "      <td>0</td>\n",
       "      <td>0</td>\n",
       "      <td>0</td>\n",
       "      <td>0</td>\n",
       "      <td>0</td>\n",
       "      <td>0</td>\n",
       "      <td>0</td>\n",
       "      <td>1</td>\n",
       "      <td>92347.0</td>\n",
       "    </tr>\n",
       "    <tr>\n",
       "      <th>2</th>\n",
       "      <td>True</td>\n",
       "      <td>0</td>\n",
       "      <td>0</td>\n",
       "      <td>3</td>\n",
       "      <td>True</td>\n",
       "      <td>True</td>\n",
       "      <td>False</td>\n",
       "      <td>INC0000045</td>\n",
       "      <td>Caller 2403</td>\n",
       "      <td>Opened by  8</td>\n",
       "      <td>...</td>\n",
       "      <td>0</td>\n",
       "      <td>0</td>\n",
       "      <td>0</td>\n",
       "      <td>0</td>\n",
       "      <td>0</td>\n",
       "      <td>0</td>\n",
       "      <td>0</td>\n",
       "      <td>0</td>\n",
       "      <td>1</td>\n",
       "      <td>92191.0</td>\n",
       "    </tr>\n",
       "  </tbody>\n",
       "</table>\n",
       "<p>3 rows × 44 columns</p>\n",
       "</div>"
      ],
      "text/plain": [
       "   active  reassignment_count  reopen_count  sys_mod_count  made_sla  \\\n",
       "0    True                   0             0              0      True   \n",
       "1    True                   0             0              2      True   \n",
       "2    True                   0             0              3      True   \n",
       "\n",
       "   knowledge  u_priority_confirmation      number    caller_id     opened_by  \\\n",
       "0       True                    False  INC0000045  Caller 2403  Opened by  8   \n",
       "1       True                    False  INC0000045  Caller 2403  Opened by  8   \n",
       "2       True                    False  INC0000045  Caller 2403  Opened by  8   \n",
       "\n",
       "   ... incident_state_-100 incident_state_Active  \\\n",
       "0  ...                   0                     0   \n",
       "1  ...                   0                     0   \n",
       "2  ...                   0                     0   \n",
       "\n",
       "  incident_state_Awaiting Evidence  incident_state_Awaiting Problem  \\\n",
       "0                                0                                0   \n",
       "1                                0                                0   \n",
       "2                                0                                0   \n",
       "\n",
       "  incident_state_Awaiting User Info incident_state_Awaiting Vendor  \\\n",
       "0                                 0                              0   \n",
       "1                                 0                              0   \n",
       "2                                 0                              0   \n",
       "\n",
       "   incident_state_Closed  incident_state_New  incident_state_Resolved  \\\n",
       "0                      0                   1                        0   \n",
       "1                      0                   0                        1   \n",
       "2                      0                   0                        1   \n",
       "\n",
       "   time_before_resolution  \n",
       "0                 92797.0  \n",
       "1                 92347.0  \n",
       "2                 92191.0  \n",
       "\n",
       "[3 rows x 44 columns]"
      ]
     },
     "execution_count": 20,
     "metadata": {},
     "output_type": "execute_result"
    }
   ],
   "source": [
    "df.head(3)"
   ]
  },
  {
   "cell_type": "markdown",
   "metadata": {},
   "source": [
    "On supprime les colonnes qui ne me serviront plus."
   ]
  },
  {
   "cell_type": "code",
   "execution_count": 21,
   "metadata": {},
   "outputs": [],
   "source": [
    "df.drop(columns=['closed_code', 'notify', 'sys_created_by', 'sys_created_at', 'opened_by', 'opened_at', 'caller_id', 'location', 'assigned_to', 'assignment_group', 'resolved_by', 'number', 'resolved_at', 'closed_at'], inplace=True)"
   ]
  },
  {
   "cell_type": "markdown",
   "metadata": {},
   "source": [
    "On encode le jour, les heures, le mois de mes dates de mises à jour."
   ]
  },
  {
   "cell_type": "code",
   "execution_count": 22,
   "metadata": {
    "scrolled": true
   },
   "outputs": [],
   "source": [
    "def dateEncoding(df):\n",
    "    df[\"isoWeekDay\"] = df.sys_updated_at.map(lambda date: date.isoweekday())\n",
    "    dummies = pd.get_dummies(df[\"isoWeekDay\"], prefix=\"isoWeekDay\")\n",
    "    df2 = pd.concat([df,dummies], axis=1)\n",
    "    df2[\"hour\"] = df2.sys_updated_at.map(lambda date :date.hour)\n",
    "    df2[\"month\"] = df2.sys_updated_at.map(lambda date :date.month)\n",
    "    df2.drop(columns=['isoWeekDay', 'sys_updated_at'], inplace=True)\n",
    "    return df2\n",
    "df = dateEncoding(df)"
   ]
  },
  {
   "cell_type": "markdown",
   "metadata": {},
   "source": [
    "Je transforme les noms de mes colonnes contenant un espace."
   ]
  },
  {
   "cell_type": "code",
   "execution_count": 23,
   "metadata": {},
   "outputs": [],
   "source": [
    "df.columns\n",
    "df = df.rename(columns={'contact_type_Direct opening': 'contact_type_Direct_opening', \n",
    "                        'contact_type_Self service' : 'contact_type_Self_service',\n",
    "                        'incident_state_-100':'incident_state_100',\n",
    "                        'incident_state_Awaiting Evidence':'incident_state_Awaiting_Evidence', \n",
    "                        'incident_state_Awaiting Problem':'incident_state_Awaiting_Problem',\n",
    "                        'incident_state_Awaiting User Info':'incident_state_Awaiting_User_Info', \n",
    "                        'incident_state_Awaiting Vendor':'incident_state_Awaiting_Vendor'})"
   ]
  },
  {
   "cell_type": "markdown",
   "metadata": {},
   "source": [
    "On observe les corrélations entre nos différentes colonnes."
   ]
  },
  {
   "cell_type": "code",
   "execution_count": 46,
   "metadata": {
    "scrolled": true
   },
   "outputs": [
    {
     "data": {
      "image/png": "[encoded data removed]",
      "text/plain": [
       "<Figure size 576x432 with 2 Axes>"
      ]
     },
     "metadata": {
      "needs_background": "light"
     },
     "output_type": "display_data"
    }
   ],
   "source": [
    "from matplotlib import pyplot as plt\n",
    "import seaborn as sns\n",
    "cor = df.corr(method='pearson')\n",
    "fig, ax =plt.subplots(figsize=(8, 6))\n",
    "plt.title(\"Correlation Plot\")\n",
    "sns.heatmap(cor, mask=np.zeros_like(cor, dtype=np.bool), cmap=sns.diverging_palette(220, 10, as_cmap=True),\n",
    "            square=True, ax=ax)\n",
    "plt.show()"
   ]
  },
  {
   "cell_type": "markdown",
   "metadata": {},
   "source": [
    "## 3) Entraînement du modèle"
   ]
  },
  {
   "cell_type": "markdown",
   "metadata": {},
   "source": [
    "### 3.1) Séparation du train et test set "
   ]
  },
  {
   "cell_type": "code",
   "execution_count": 26,
   "metadata": {},
   "outputs": [],
   "source": [
    "from sklearn.model_selection import train_test_split"
   ]
  },
  {
   "cell_type": "markdown",
   "metadata": {},
   "source": [
    "Séparation de notre dataset en train et test"
   ]
  },
  {
   "cell_type": "code",
   "execution_count": 27,
   "metadata": {},
   "outputs": [],
   "source": [
    "columns = list(filter(lambda x : x != 'time_before_resolution', df.columns))\n",
    "X_train,X_test,  y_train, y_test = train_test_split(df[columns], df[\"time_before_resolution\"])"
   ]
  },
  {
   "cell_type": "markdown",
   "metadata": {},
   "source": [
    "### 3.2) Random Forest"
   ]
  },
  {
   "cell_type": "code",
   "execution_count": 28,
   "metadata": {},
   "outputs": [],
   "source": [
    "from sklearn.ensemble import RandomForestRegressor\n",
    "def RFModel(n_arbres):\n",
    "    algo  = RandomForestRegressor(n_estimators=n_arbres)\n",
    "    model = algo.fit(X_train, y_train)\n",
    "\n",
    "    score = model.score(X_test, y_test)\n",
    "    return score"
   ]
  },
  {
   "cell_type": "markdown",
   "metadata": {},
   "source": [
    "Entraînement de notre modèle avec différents nombres d'arbres."
   ]
  },
  {
   "cell_type": "code",
   "execution_count": 29,
   "metadata": {},
   "outputs": [],
   "source": [
    "n_arbres = [1,2,5,10,20,50,100]\n",
    "scores_RF = []\n",
    "for i in range(len(n_arbres)):\n",
    "    scores_RF.append(RFModel(n_arbres[i]))"
   ]
  },
  {
   "cell_type": "code",
   "execution_count": 30,
   "metadata": {
    "scrolled": true
   },
   "outputs": [
    {
     "name": "stdout",
     "output_type": "stream",
     "text": [
      "[0.498491365448415, 0.6412064607583134, 0.7162276026060987, 0.7449167898180217, 0.7574633754236215, 0.7650197240400901, 0.7681236493928212]\n"
     ]
    }
   ],
   "source": [
    "print(scores_RF)"
   ]
  },
  {
   "cell_type": "markdown",
   "metadata": {},
   "source": [
    "Evolution du score en fonction du nombre d'arbres."
   ]
  },
  {
   "cell_type": "code",
   "execution_count": 32,
   "metadata": {
    "scrolled": false
   },
   "outputs": [
    {
     "data": {
      "image/png": "[encoded data removed]",
      "text/plain": [
       "<Figure size 432x288 with 1 Axes>"
      ]
     },
     "metadata": {
      "needs_background": "light"
     },
     "output_type": "display_data"
    }
   ],
   "source": [
    "from matplotlib import pyplot\n",
    "pyplot.plot(n_arbres, scores_RF)\n",
    "pyplot.show() "
   ]
  },
  {
   "cell_type": "markdown",
   "metadata": {},
   "source": [
    "A partir de 20 arbres le score stagne aux alentours de 0,75 ; le score maximum que nous ayons atteint étant avec 100 arbres, on gardera celui-ci pour l'api. "
   ]
  },
  {
   "cell_type": "markdown",
   "metadata": {},
   "source": [
    "On garde le modèle ayant le plus haut score"
   ]
  },
  {
   "cell_type": "code",
   "execution_count": 33,
   "metadata": {},
   "outputs": [],
   "source": [
    "algo100  = RandomForestRegressor(n_estimators=100)\n",
    "model100 = algo100.fit(X_train, y_train)\n",
    "score100 = model100.score(X_test, y_test)"
   ]
  },
  {
   "cell_type": "markdown",
   "metadata": {},
   "source": [
    "### 3.3) Régression Linéaire"
   ]
  },
  {
   "cell_type": "code",
   "execution_count": 34,
   "metadata": {},
   "outputs": [],
   "source": [
    "from sklearn.linear_model import LinearRegression"
   ]
  },
  {
   "cell_type": "code",
   "execution_count": 35,
   "metadata": {},
   "outputs": [
    {
     "data": {
      "text/plain": [
       "0.46203666754717526"
      ]
     },
     "execution_count": 35,
     "metadata": {},
     "output_type": "execute_result"
    }
   ],
   "source": [
    "reg = LinearRegression().fit(X_train, y_train)\n",
    "reg.score(X_test, y_test)"
   ]
  },
  {
   "cell_type": "markdown",
   "metadata": {},
   "source": [
    "## 4) Enregistrer le modèle sur le disque dur"
   ]
  },
  {
   "cell_type": "code",
   "execution_count": null,
   "metadata": {},
   "outputs": [],
   "source": [
    "import pickle as pkl\n",
    "output_path = \"model_RF.pkl\"\n",
    "with open(output_path,\"wb\") as f: \n",
    "    pkl.dump(model100, f)"
   ]
  },
  {
   "cell_type": "markdown",
   "metadata": {},
   "source": [
    "## 5) Prédire à nouveau à partir du modèle enregistré"
   ]
  },
  {
   "cell_type": "code",
   "execution_count": null,
   "metadata": {},
   "outputs": [],
   "source": [
    "with open(output_path,\"rb\") as f: \n",
    "    model_charged = pkl.load(f)\n",
    "a_predire = df[columns][100:101]\n",
    "model_charged.predict(a_predire)"
   ]
  },
  {
   "cell_type": "markdown",
   "metadata": {},
   "source": [
    "##  6) DJANGO API"
   ]
  },
  {
   "cell_type": "markdown",
   "metadata": {},
   "source": [
    "Les lignes suivantes m'ont permis d'avoir simplement les lignes en formant json de mes events."
   ]
  },
  {
   "cell_type": "code",
   "execution_count": 37,
   "metadata": {},
   "outputs": [
    {
     "data": {
      "text/plain": [
       "'[{\"active\":true,\"reassignment_count\":0,\"reopen_count\":0,\"sys_mod_count\":2,\"made_sla\":true,\"knowledge\":true,\"u_priority_confirmation\":false,\"sys_updated_by\":510,\"category\":47,\"subcategory\":70,\"u_symptom\":502,\"impact\":2,\"urgency\":2,\"priority\":3,\"contact_type_Direct_opening\":0,\"contact_type_Email\":0,\"contact_type_IVR\":0,\"contact_type_Phone\":1,\"contact_type_Self_service\":0,\"incident_state_100\":0,\"incident_state_Active\":0,\"incident_state_Awaiting_Evidence\":0,\"incident_state_Awaiting_Problem\":0,\"incident_state_Awaiting_User_Info\":0,\"incident_state_Awaiting_Vendor\":0,\"incident_state_Closed\":0,\"incident_state_New\":0,\"incident_state_Resolved\":1,\"time_before_resolution\":92347.0,\"isoWeekDay_1\":1,\"isoWeekDay_2\":0,\"isoWeekDay_3\":0,\"isoWeekDay_4\":0,\"isoWeekDay_5\":0,\"isoWeekDay_6\":0,\"isoWeekDay_7\":0,\"hour\":8,\"month\":2}]'"
      ]
     },
     "execution_count": 37,
     "metadata": {},
     "output_type": "execute_result"
    }
   ],
   "source": [
    "df[1:2].to_json(orient='records')"
   ]
  },
  {
   "cell_type": "code",
   "execution_count": 42,
   "metadata": {},
   "outputs": [
    {
     "data": {
      "text/plain": [
       "'[{\"active\":true,\"reassignment_count\":0,\"reopen_count\":0,\"sys_mod_count\":0,\"made_sla\":true,\"knowledge\":true,\"u_priority_confirmation\":false,\"sys_updated_by\":229,\"category\":33,\"subcategory\":122,\"u_symptom\":352,\"impact\":2,\"urgency\":2,\"priority\":3,\"contact_type_Direct_opening\":0,\"contact_type_Email\":0,\"contact_type_IVR\":0,\"contact_type_Phone\":1,\"contact_type_Self_service\":0,\"incident_state_100\":0,\"incident_state_Active\":0,\"incident_state_Awaiting_Evidence\":0,\"incident_state_Awaiting_Problem\":0,\"incident_state_Awaiting_User_Info\":0,\"incident_state_Awaiting_Vendor\":0,\"incident_state_Closed\":0,\"incident_state_New\":1,\"incident_state_Resolved\":0,\"time_before_resolution\":92671.0,\"isoWeekDay_1\":1,\"isoWeekDay_2\":0,\"isoWeekDay_3\":0,\"isoWeekDay_4\":0,\"isoWeekDay_5\":0,\"isoWeekDay_6\":0,\"isoWeekDay_7\":0,\"hour\":8,\"month\":2}]'"
      ]
     },
     "execution_count": 42,
     "metadata": {},
     "output_type": "execute_result"
    }
   ],
   "source": [
    "df[105:106].to_json(orient='records')"
   ]
  },
  {
   "cell_type": "code",
   "execution_count": null,
   "metadata": {},
   "outputs": [],
   "source": []
  }
 ],
 "metadata": {
  "kernelspec": {
   "display_name": "Python 3",
   "language": "python",
   "name": "python3"
  },
  "language_info": {
   "codemirror_mode": {
    "name": "ipython",
    "version": 3
   },
   "file_extension": ".py",
   "mimetype": "text/x-python",
   "name": "python",
   "nbconvert_exporter": "python",
   "pygments_lexer": "ipython3",
   "version": "3.7.3"
  }
 },
 "nbformat": 4,
 "nbformat_minor": 2
}
